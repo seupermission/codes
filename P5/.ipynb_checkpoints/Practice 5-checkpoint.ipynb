{
 "cells": [
  {
   "cell_type": "markdown",
   "metadata": {},
   "source": [
    "# Softwarehomework 5\n",
    "## 03015434"
   ]
  },
  {
   "cell_type": "markdown",
   "metadata": {},
   "source": [
    "### 1、Description\n",
    "\n",
    "#### （1）Problem：IAPWS-IF97 physical properties calculation and unit test \n",
    "\n",
    "#### （2）Particular requirements：\n",
    "\n",
    "* According to the Revised Supplementary Release on Backward Equations for Specific Volume as a Function of Pressure and Temperature v(p,T) for Region 3 of the IAPWS Industrial Formulation 1997 for the Thermodynamic Properties of Water and Steam http://www.iapws.org/relguide/Supp-VPT3-2016.pdf calculation formula provided,design physical properties calculation and unit test program\n",
    "\n",
    " * 1 physical properties calculation：StudentID 030153434 ->3h subregion,realize the ***Supp-VPT3-2016.pdf*** supplementary formula of the v(p,T) calculation.\n",
    "\n",
    " * 2 unit test program：Test unit based on physical property calculation program in the **unittest**."
   ]
  },
  {
   "cell_type": "markdown",
   "metadata": {},
   "source": [
    "### 2、Solution\n",
    "\n",
    "#### （1）Physical properties calculation\n",
    "\n",
    "* Use the following supplementary formula *v（p，T)* to caculate：\n",
    "$$ \\frac{v(p,T)}{v^*}=\\omega(\\pi,\\theta)=[\\sum_{i=1}^n n_i[(\\pi-a)^c]^{I_i}[(\\theta-b)^d]^{J_i}]^e $$\n",
    " * $ \\omega=v/{v^*},\\pi=p/{p^*},\\theta=T/{T^*} $，\n",
    " \n",
    " * Find the $ v^*,p^*,T^*,N,a,b,c,d,e $ in *IF97-dev,Table 4,3h*，$ n_i，I_i，J_i $ in *Table A1.8*\n",
    "   \n",
    " * The volume v is obtained by **While** cycle accumulation calculation."
   ]
  },
  {
   "cell_type": "code",
   "execution_count": 3,
   "metadata": {},
   "outputs": [
    {
     "name": "stdout",
     "output_type": "stream",
     "text": [
      "Region3h 23.6 652 0.0026510814065738644\n",
      "Region3h 24 654 0.0029678023349397884\n"
     ]
    }
   ],
   "source": [
    "from math import log\n",
    "class Region3h_pt2v():\n",
    "\n",
    "    def __init__(self, P, T):\n",
    "        \"\"\"\n",
    "        Parameters\n",
    "        ----------\n",
    "        T : float\n",
    "            Temperature [K]\n",
    "        P : float\n",
    "            Pressure [MPa]\n",
    "        V : float\n",
    "            Specific volume [m³/kg]\n",
    "        region : char\n",
    "            Region 3 subregion code\n",
    "       \n",
    "        References\n",
    "        ----------\n",
    "        \"\"\"\n",
    "        self.P = P\n",
    "        self.T = T\n",
    "        self.V = None\n",
    "        self.region = \"Region3h\"\n",
    "        \n",
    "        \n",
    "    def _P23_T(self):\n",
    "        \"\"\"Define the boundary between Region 2 and 3, P=f(T)\n",
    "        \"\"\"\n",
    "\n",
    "        n = [0.34805185628969e3, -0.11671859879975e1, 0.10192970039326e-2]\n",
    "\n",
    "        return n[0]+n[1]*self.T+n[2]*self.T**2\n",
    "\n",
    "\n",
    "    def _tab_P(self):\n",
    "        \"\"\"Define the boundary between Region 3g-3h, T=f(P)\n",
    "        \"\"\"\n",
    "        I = [0, 1, 2, 3 ,4]\n",
    "        n = [-0.249284240900418e5, 0.428143584791546e4, -0.269029173140130e3,\n",
    "             0.751608051114157e1, -0.787105249910383e-1]\n",
    "\n",
    "        Pr = self.P/1\n",
    "        T = 0\n",
    "        for i, ni in zip(I, n):\n",
    "            T += ni * log(Pr)**i\n",
    "        return T\n",
    "\n",
    "\n",
    "    def _Backward3h_v_PT(self):\n",
    "        \"\"\"Backward equation for region 3, v=f(P,T)        \n",
    "        \"\"\"\n",
    "        if self.P > 25 and self.T >= self._tab_P() and self.P >= self._P23_T():\n",
    "            self.region = \"h\"\n",
    "        else:\n",
    "            raise NotImplementedError(\"Incoming out of 3h-region\")\n",
    "\n",
    "        return self._Backward3h_v_PT()\n",
    "\n",
    "\n",
    "    def _Backward3h_v_PT(self):\n",
    "        \"\"\"Backward equation for region 3h, v=f(P,T)\n",
    "        \"\"\"\n",
    "        par = [0.0032, 25, 660, 0.898, 0.983, 1, 1, 4]\n",
    "\n",
    "        I = [-12, -12, -10, -10, -10, -10, -10, -10, -8, -8, -8, -8, -8, -6, -6,\n",
    "             -6, -5, -5, -5, -4, -4, -3, -3, -2, -1, -1, 0, 1, 1, ]\n",
    "\n",
    "        J = [8, 12, 4, 6, 8, 10, 14, 16, 0, 1, 6, 7, 8, 4, 6, 8, 2, 3, 4, 2, 4,\n",
    "             1, 2, 0, 0, 2, 0, 0, 2]\n",
    "\n",
    "        n = [0.561379678887577e-1, 0.774135421587083e10, 0.111482975877938e-8,\n",
    "             -0.143987128208183e-2, 0.193696558764920e4, -0.605971823585005e9,\n",
    "             0.171951568124337e14, -0.185461154985145e17, 0.387851168078010e-16,\n",
    "             -0.395464327846105e-13, -0.170875935679023e3, -0.212010620701220e4,\n",
    "             0.177683337348191e8, 0.110177443629575e2, -0.234396091693313e6,\n",
    "             -0.656174421999594e7, 0.156362212977396e-4, -0.212946257021400e1,\n",
    "             0.135249306374858e2, 0.177189164145813, 0.139499167345464e4,\n",
    "             -0.703670932036388e-2,-0.152011044389648, 0.98191692299113e-4,\n",
    "             0.147199658618076e-2, 0.202618487025578e2, 0.899345518944240,\n",
    "             -0.211346402240858,0.249971752957491e2]\n",
    "\n",
    "        v_, P_, T_, a, b, c, d, e = par\n",
    "\n",
    "        Pr = self.P/P_\n",
    "        Tr = self.T/T_\n",
    "        suma = 0\n",
    "        for i, j, ni in zip(I, J, n):\n",
    "            suma += ni * (Pr-a)**(c*i) * (Tr-b)**(j*d)\n",
    "            \n",
    "        self.V = v_*suma**e \n",
    "        return v_*suma**e\n",
    "\n",
    "if __name__ == '__main__':\n",
    "   a = Region3h_pt2v(23.6,652)\n",
    "   a._Backward3h_v_PT() \n",
    "   b = Region3h_pt2v(24,654)\n",
    "   b._Backward3h_v_PT()\n",
    "   print(a.region ,a.P, a.T, a.V)\n",
    "   print(b.region ,b.P, b.T, b.V)    "
   ]
  },
  {
   "cell_type": "markdown",
   "metadata": {},
   "source": [
    "#### （2）Unit test program\n",
    "\n",
    "* unittest module is a unit testing framework that comes with Python, which encapsulates some result methods of check return and       initialization operation before execution of some use cases.\n",
    "* execute the test case through unittest.mainer."
   ]
  },
  {
   "cell_type": "code",
   "execution_count": 4,
   "metadata": {},
   "outputs": [
    {
     "name": "stderr",
     "output_type": "stream",
     "text": [
      "E\n",
      "======================================================================\n",
      "ERROR: C:\\Users\\john\\AppData\\Roaming\\jupyter\\runtime\\kernel-9e37c44c-2506-4fe7-8447-8920ff741fe4 (unittest.loader._FailedTest)\n",
      "----------------------------------------------------------------------\n",
      "AttributeError: module '__main__' has no attribute 'C:\\Users\\john\\AppData\\Roaming\\jupyter\\runtime\\kernel-9e37c44c-2506-4fe7-8447-8920ff741fe4'\n",
      "\n",
      "----------------------------------------------------------------------\n",
      "Ran 1 test in 0.001s\n",
      "\n",
      "FAILED (errors=1)\n"
     ]
    },
    {
     "ename": "SystemExit",
     "evalue": "True",
     "output_type": "error",
     "traceback": [
      "An exception has occurred, use %tb to see the full traceback.\n",
      "\u001b[1;31mSystemExit\u001b[0m\u001b[1;31m:\u001b[0m True\n"
     ]
    },
    {
     "name": "stderr",
     "output_type": "stream",
     "text": [
      "c:\\python35\\lib\\site-packages\\IPython\\core\\interactiveshell.py:2918: UserWarning: To exit: use 'exit', 'quit', or Ctrl-D.\n",
      "  warn(\"To exit: use 'exit', 'quit', or Ctrl-D.\", stacklevel=1)\n"
     ]
    }
   ],
   "source": [
    "import unittest\n",
    "class Unittest_3h(unittest.TestCase):\n",
    "    def setUp(self):\n",
    "        print('start!')\n",
    "        self.P = (23.6,24)\n",
    "        self.T = (652,654)\n",
    "        self.V = (0.002651081407,0.002967802335)\n",
    " \n",
    "    def test_3h_pt2v(self):\n",
    "        self.V = (Region3h_pt2v(self.P[0],self.T[0])._Backward3h_v_PT(),\n",
    "                  Region3h_pt2v(self.P[1],self.T[1])._Backward3h_v_PT())\n",
    "\n",
    "    def test_inregion3h(self):\n",
    "        try:\n",
    "            Region3h_pt2v(self.P[0],self.T[0])._Backward3h_v_PT()\n",
    "        except Exception as e:\n",
    "            print('RegionError:',e)\n",
    "        \n",
    "        try:\n",
    "            Region3h_pt2v(self.P[1],self.T[1])._Backward3h_v_PT()\n",
    "        except Exception as e:\n",
    "            print('RegionError:',e)\n",
    "\n",
    "    \n",
    "    \n",
    "if __name__ == '__main__':\n",
    "    unittest.main() \n"
   ]
  }
 ],
 "metadata": {
  "kernelspec": {
   "display_name": "Python 3",
   "language": "python",
   "name": "python3"
  },
  "language_info": {
   "codemirror_mode": {
    "name": "ipython",
    "version": 3
   },
   "file_extension": ".py",
   "mimetype": "text/x-python",
   "name": "python",
   "nbconvert_exporter": "python",
   "pygments_lexer": "ipython3",
   "version": "3.5.4"
  }
 },
 "nbformat": 4,
 "nbformat_minor": 2
}
