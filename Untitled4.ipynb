{
 "cells": [
  {
   "cell_type": "markdown",
   "metadata": {},
   "source": [
    "# Software homework 4\n",
    "## 03015434 \n",
    "\n",
    "### **Ansombe's quartet**"
   ]
  },
  {
   "cell_type": "markdown",
   "metadata": {},
   "source": [
    "**Data Analysis**"
   ]
  },
  {
   "cell_type": "code",
   "execution_count": 1,
   "metadata": {},
   "outputs": [],
   "source": [
    "import numpy as np\n",
    "import matplotlib.pyplot as plt\n",
    "from  statistics import mean,stdev,variance\n",
    "\n",
    "class Group:\n",
    "\n",
    "    def __init__(self,X,Y,j):\n",
    "        self.X = np.array(X)\n",
    "        self.Y = np.array(Y)\n",
    "        self.X1 = X\n",
    "        self.Y1 = Y\n",
    "        self.j = j \n",
    "        self.person_r = np.corrcoef(self.X1,self.Y1)[0, 1]  #Pearson correlation \n",
    "        \n",
    "\n",
    "    def indicators(self):\n",
    "        x={}\n",
    "        y={}\n",
    "       \n",
    "        x['x_avg'] = mean(self.X)\n",
    "        x['x_std'] = stdev(self.X)\n",
    "        x['x_pstd'] = stdev(self.X)*10/11\n",
    "        x['x_var'] = variance(self.X)\n",
    "        x['x_pvar'] = variance(self.X)*10/11\n",
    "        y['y_avg'] = mean(self.Y)\n",
    "        y['y_std'] = stdev(self.Y)\n",
    "        y['y_pstd'] = stdev(self.Y)*10/11\n",
    "        y['y_var'] = variance(self.Y)\n",
    "        y['y_pvar'] = variance(self.Y)*10/11\n",
    "        return x,y,self.person_r\n"
   ]
  },
  {
   "cell_type": "markdown",
   "metadata": {},
   "source": [
    "**LinearRegression**"
   ]
  },
  {
   "cell_type": "code",
   "execution_count": 2,
   "metadata": {},
   "outputs": [],
   "source": [
    "    \n",
    "    def rSquared(self,measured, predicted):\n",
    "        # RSS: residual sum of squares\n",
    "        estimateError = ((predicted - measured)**2).sum()\n",
    "        meanOfMeasured = measured.sum()/float(len(measured))\n",
    "        \n",
    "        # TSS: total sum of squares\n",
    "        variability = ((measured - meanOfMeasured)**2).sum()\n",
    "        return 1 - estimateError/variability\n",
    "    \n",
    "\n",
    "    \n",
    "    def LinearRegression(self):\n",
    "        measuredX = np.array(self.X)  \n",
    "        measuredX.sort()\n",
    "        measuredY = self.Y\n",
    "\n",
    "        i=0\n",
    "        a=[]\n",
    "        R=[]\n",
    "        predictedY = []\n",
    "        while (i<1):\n",
    "            a.append([0,0])\n",
    "            R.append(None)\n",
    "            predictedY.append(None)\n",
    "            i=i+1\n",
    "        \n",
    "        i=0\n",
    "        while (i<1):\n",
    "            a[i][0-i:1] = np.polyfit(self.X, self.Y, i+1)\n",
    "            predictedY[i] =(a[i][0]*measuredX + a[i][1])\n",
    "            predictedY1 =( a[i][0]*self.X + a[i][1])\n",
    "            R[i] = self.rSquared(measuredY, predictedY1)\n",
    "            if (R[i]<0)or(R[i]>1):\n",
    "                predictedY[i] =self.Y  \n",
    "            i+=1\n",
    "        return a,measuredX,predictedY,R"
   ]
  },
  {
   "cell_type": "markdown",
   "metadata": {},
   "source": [
    "**export picture**"
   ]
  },
  {
   "cell_type": "code",
   "execution_count": 4,
   "metadata": {},
   "outputs": [
    {
     "ename": "IndentationError",
     "evalue": "expected an indented block (<ipython-input-4-2412791d3a08>, line 26)",
     "output_type": "error",
     "traceback": [
      "\u001b[1;36m  File \u001b[1;32m\"<ipython-input-4-2412791d3a08>\"\u001b[1;36m, line \u001b[1;32m26\u001b[0m\n\u001b[1;33m    datafile = xlrd.open_workbook(filename)\u001b[0m\n\u001b[1;37m           ^\u001b[0m\n\u001b[1;31mIndentationError\u001b[0m\u001b[1;31m:\u001b[0m expected an indented block\n"
     ]
    }
   ],
   "source": [
    "    def export(self,ax,j=5): \n",
    "        a,measuredX,predictedY,R = self.LinearRegression()\n",
    "        ax.plot(self.X, self.Y, 'bo',label='Anscombe'+'%.0f' % (self.j+1)+'.jpg')\n",
    "        for i in range(1):\n",
    "            if j<5:\n",
    "                i=j\n",
    "            if i==0:\n",
    "                if (R[i]<0)or(R[i]>1):\n",
    "                    ax.plot(measuredX, predictedY[i], 'g:', label = 'linear fit x='+'%.2f' %(measuredX[0]))\n",
    "                else :\n",
    "                    ax.plot(measuredX, predictedY[i], 'g:', label = 'linear fit y='+'%.2f' % (a[i][1])+'x+'+'%.1f' % (a[i][0]))\n",
    "            if j<5:\n",
    "                break\n",
    "                \n",
    "        ax.set_title('Anscombe'+'%.0f' % (self.j+1)+'.txt')\n",
    "        ax.legend(loc='best')\n",
    "        ax.set_xlabel('X'+'%.0f' % (self.j+1))\n",
    "        ax.set_ylabel('Y'+'%.0f' % (self.j+1))\n",
    "        return ax\n",
    "import xlrd\n",
    "\n",
    "\n",
    "\n",
    "def read_datafile(filename):\n",
    "    \n",
    "    datafile = xlrd.open_workbook(filename)\n",
    "    sheet = datafile.sheets()[0]\n",
    "    col = sheet.ncols \n",
    "    row = sheet.nrows\n",
    "    \n",
    "    group = []\n",
    "    x=[]\n",
    "    y=[]\n",
    "    \n",
    "    i=0\n",
    "    while (i < col):\n",
    "        x.append(None)\n",
    "        y.append(None)\n",
    "        group.append(None)\n",
    "        i=i+1\n",
    "    \n",
    "    i=0\n",
    "    j=0\n",
    "    while (i < col):\n",
    "        x[i]=sheet.col_values(i)\n",
    "        del x[i][0]\n",
    "        y[i]=sheet.col_values(i+1)\n",
    "        del y[i][0]\n",
    "        group[j] = Group(x[i],y[i],j)\n",
    "        j=j+1\n",
    "        i=i+2\n",
    "        \n",
    "    return row,col,group\n",
    "\n",
    "\n",
    "    \n",
    "row,col,group = read_datafile('./data.xlsx')\n",
    "row=row-1\n",
    "a=int(col/2)\n",
    "x=[]\n",
    "y=[]\n",
    "r=[]\n",
    "fig = plt.figure(figsize=(12,10)) \n",
    "for i in range(a):\n",
    "    ax = fig.add_subplot(2,2,i+1)\n",
    "    group[i].export(ax)\n",
    "    x.append(None)\n",
    "    y.append(None)\n",
    "    r.append(None)\n",
    "    x[i],y[i],r[i]=group[i].indicators()\n",
    "    \n",
    "plt.show()"
   ]
  },
  {
   "cell_type": "markdown",
   "metadata": {},
   "source": [
    "**Output Table**"
   ]
  },
  {
   "cell_type": "code",
   "execution_count": null,
   "metadata": {},
   "outputs": [],
   "source": [
    "from prettytable import PrettyTable\n",
    "table=PrettyTable([\"data set\",\"x-avg\",\"x-std\", \"x-pstd\", \"x-var\",\"x-pvar\",\"y-avg\",\"y-std\", \"y-pstd\", \"y-var\",\"y-pvar\",\"pearson_r\"])  \n",
    "table.align['data set']= \"l\" # left align  \n",
    "table.padding_width = 1 # One space between column edges and contents (default)  \n",
    "for i in range(a):\n",
    "    table.add_row([str(i+1),\"%.3f\" %x[i]['x_avg'],\"%.3f\" %x[i]['x_std'],\"%.3f\" %x[i]['x_pstd'],\"%.3f\" %x[i]['x_var'],\"%.3f\" %x[i]['x_pvar'],\n",
    "                   \"%.3f\" %y[i]['y_avg'],\"%.3f\" %y[i]['y_std'],\"%.3f\" %y[i]['y_pstd'],\"%.3f\" %y[i]['y_var'],\"%.3f\" %y[i]['y_pvar'],\"%.3f\" %r[i]])     \n",
    "\n",
    "print(table)"
   ]
  },
  {
   "cell_type": "markdown",
   "metadata": {},
   "source": [
    "* All four graphs have identical (to two decimal places) statistical coefficients. However as these graphs demonstrate and here is the big takeaway, summary statistics don’t tell us everything about a Dataset."
   ]
  },
  {
   "cell_type": "code",
   "execution_count": null,
   "metadata": {},
   "outputs": [],
   "source": []
  }
 ],
 "metadata": {
  "kernelspec": {
   "display_name": "Python 3",
   "language": "python",
   "name": "python3"
  },
  "language_info": {
   "codemirror_mode": {
    "name": "ipython",
    "version": 3
   },
   "file_extension": ".py",
   "mimetype": "text/x-python",
   "name": "python",
   "nbconvert_exporter": "python",
   "pygments_lexer": "ipython3",
   "version": "3.5.4"
  }
 },
 "nbformat": 4,
 "nbformat_minor": 2
}
