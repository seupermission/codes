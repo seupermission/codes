{
 "cells": [
  {
   "cell_type": "markdown",
   "metadata": {},
   "source": [
    "# Practice 5\n",
    "#### 常大伟    03015318"
   ]
  },
  {
   "cell_type": "markdown",
   "metadata": {},
   "source": [
    "### 1、问题描述\n",
    "\n",
    "#### （1）问题：IAPWS-IF97 physical properties calculation and unit test \n",
    "\n",
    "#### （2）具体要求：\n",
    "\n",
    "* 根据Revised Supplementary Release on Backward Equations for Specific Volume as a Function of Pressure and Temperature v(p,T) for Region 3 of the IAPWS Industrial Formulation 1997 for the Thermodynamic Properties of Water and Steam http://www.iapws.org/relguide/Supp-VPT3-2016.pdf\n",
    "  中提供的v(p,T)计算公式，设计物性计算及单元测试程序：\n",
    "\n",
    " * 1 物性计算：学号03015318 ->3h子区域，实现Supp-VPT3-2016.pdf中补充公式的v(p,T)计算。\n",
    "\n",
    " * 2 单元测试：基于unittest的物性计算程序的测试单元。"
   ]
  },
  {
   "cell_type": "markdown",
   "metadata": {},
   "source": [
    "### 2、具体实现\n",
    "\n",
    "#### （1）物性计算：学号03015318 ->3r子区域，实现Supp-VPT3-2016.pdf中补充公式的v(p,T)计算\n",
    "\n",
    "* 利用如下补充公式计算v（p，T）：\n",
    "$$ \\frac{v(p,T)}{v^*}=\\omega(\\pi,\\theta)=[\\sum_{i=1}^n n_i[(\\pi-a)^c]^{I_i}[(\\theta-b)^d]^{J_i}]^e $$\n",
    "\n",
    " * 其中$ \\omega=v/{v^*},\\pi=p/{p^*},\\theta=T/{T^*} $，\n",
    " \n",
    " * $ v^*,p^*,T^*,N,a,b,c,d,e $在IF97-dev,Table 4,3r中查得，$ n_i，I_i，J_i $ 在Table A1.18中查得。\n",
    " \n",
    "   \n",
    "* $ n_i，I_i，J_i $和$ v^*,p^*,T^*,N,a,b,c,d,e $储存在名为V3r.xlsx Excel表格中，通过xlrd模块读取，储存在相应的List或Dictionary中，通过While循环累加计算求得比容v。"
   ]
  },
  {
   "cell_type": "code",
   "execution_count": 55,
   "metadata": {},
   "outputs": [],
   "source": [
    "import xlrd\n",
    "\n",
    "def pt2v(p,T,filename='./V3r.xlsx'):\n",
    "    \n",
    "    datafile = xlrd.open_workbook(filename)\n",
    "    sheet = datafile.sheets()[0]\n",
    "    col = sheet.ncols \n",
    "    row = sheet.nrows\n",
    "    \n",
    "    \n",
    "    I = []\n",
    "    J = []\n",
    "    n = []\n",
    "    m = []\n",
    "    \n",
    "    i=0\n",
    "    while (i < 27):\n",
    "        I.append(None)\n",
    "        J.append(None)\n",
    "        n.append(None)\n",
    "        m.append(None)\n",
    "        i+=1\n",
    "    \n",
    "    I=sheet.row_values(0)\n",
    "    J=sheet.row_values(1)\n",
    "    n=sheet.row_values(2)\n",
    "    m=sheet.row_values(3)\n",
    "\n",
    "    del I[0]\n",
    "    del J[0]\n",
    "    del n[0]\n",
    "    \n",
    "    M={}\n",
    "    M['v*']=m[0]\n",
    "    M['p*']=m[1]\n",
    "    M['T*']=m[2]\n",
    "    M['N']=m[3]\n",
    "    M['a']=m[4]\n",
    "    M['b']=m[5]\n",
    "    M['c']=m[6]\n",
    "    M['d']=m[7]\n",
    "    M['e']=m[8]\n",
    "    \n",
    "    a1=(p/M['p*']-M['a'])**M['c']\n",
    "    a2=(T/M['T*']-M['b'])**M['d']\n",
    "    total=0\n",
    "    i=0\n",
    "    while (i < M['N']):\n",
    "        total=total+n[i]*(a1**I[i])*(a2**J[i])\n",
    "        i=i+1\n",
    "        \n",
    "    result = (total**M['e'])*M['v*']\n",
    "             \n",
    "    return result"
   ]
  },
  {
   "cell_type": "code",
   "execution_count": 56,
   "metadata": {},
   "outputs": [
    {
     "name": "stdout",
     "output_type": "stream",
     "text": [
      "p为 21.1 MPa,T为 644 K时，v= 0.00525100992110033 m³/㎏\n",
      "p为 21.8 MPa,T为 648 K时，v= 0.005256844740780116 m³/㎏\n"
     ]
    }
   ],
   "source": [
    "#main\n",
    "v1 = pt2v(21.1,644)\n",
    "print ('p为 21.1 MPa,T为 644 K时，v=',v1,'m³/㎏')\n",
    "\n",
    "v2 = pt2v(21.8,648)\n",
    "print ('p为 21.8 MPa,T为 648 K时，v=',v2,'m³/㎏')"
   ]
  },
  {
   "cell_type": "markdown",
   "metadata": {},
   "source": [
    "#### （2）单元测试：基于unittest的物性计算程序的测试单元\n",
    "\n",
    "* unittest模块是Python中有一个自带的单元测试框架，用来做单元测试，里面封装好了一些校验返回的结果方法和一些用例执行前的初始化操作。\n",
    "\n",
    " * TestCase : 测试用例\n",
    "\n",
    " * TestSuite : 多个测试用例集合在一起\n",
    "\n",
    " * TestLoader : 用来加载TestCase到TestSuite中\n",
    "\n",
    " * TestRunner : 执行测试用例,测试的结果会保存到TestResult实例中，包括运行了多少测试用例，成功了多少，失败了多少等信息\n",
    " \n",
    " \n",
    "* 通过unittest.main()来执行测试用例的方式会出现错误，所以采用通过testsuit来执行测试用例的方式。"
   ]
  },
  {
   "cell_type": "code",
   "execution_count": 57,
   "metadata": {},
   "outputs": [
    {
     "name": "stderr",
     "output_type": "stream",
     "text": [
      "test_ifpt2vWithpt2v (__main__.Region3Test) ... ok\n",
      "test_ifpt2vWithV (__main__.Region3Test) ... ok\n",
      "test_pt2vWithV (__main__.Region3Test) ... ok\n",
      "\n",
      "----------------------------------------------------------------------\n",
      "Ran 3 tests in 0.531s\n",
      "\n",
      "OK\n"
     ]
    }
   ],
   "source": [
    "import unittest\n",
    "import seuif97 as if97\n",
    "\n",
    "class Region3Test (unittest.TestCase):\n",
    "\n",
    "    def setUp(self):\n",
    "         self.T0=273.15\n",
    "\n",
    "         # IF97-dev,Table 5 Page 9 : p,t(K),v\n",
    "         self.tab5=[ [ 21.1, 644, 0.005251009921],\n",
    "                     [21.8, 648, 0.005256844741]]\n",
    "\n",
    "    def test_ifpt2vWithpt2v(self):#IF97的结果和自己写的pt2v函数的结果做比较\n",
    "        \n",
    "         for item in  self.tab5:\n",
    "                self.assertAlmostEqual(if97.pt2v(item[0], item[1]-self.T0),pt2v(item[0], item[1]))\n",
    "    \n",
    "    \n",
    "    def test_ifpt2vWithV(self):#IF97的结果和实际结果做比较\n",
    "        \n",
    "         for item in  self.tab5:\n",
    "                self.assertAlmostEqual(if97.pt2v(item[0], item[1]-self.T0),item[2])\n",
    "                \n",
    "    def test_pt2vWithV(self):#自己写的pt2v函数的结果和实际结果做比较\n",
    "        \n",
    "         for item in  self.tab5:\n",
    "                self.assertAlmostEqual(pt2v(item[0], item[1]),item[2])\n",
    "        \n",
    "                \n",
    "if __name__ == \"__main__\":\n",
    "    # 构造测试集\n",
    "    suite = unittest.TestSuite()\n",
    "    suite.addTest(Region3Test(\"test_ifpt2vWithpt2v\"))\n",
    "    suite.addTest(Region3Test(\"test_ifpt2vWithV\"))\n",
    "    suite.addTest(Region3Test(\"test_pt2vWithV\"))\n",
    "    \n",
    "    # 执行测试\n",
    "    #参数verbosity=2可以显示详细信息\n",
    "    runner = unittest.TextTestRunner(verbosity=2)\n",
    "    runner.run(suite)"
   ]
  }
 ],
 "metadata": {
  "kernelspec": {
   "display_name": "Python 3",
   "language": "python",
   "name": "python3"
  },
  "language_info": {
   "codemirror_mode": {
    "name": "ipython",
    "version": 3
   },
   "file_extension": ".py",
   "mimetype": "text/x-python",
   "name": "python",
   "nbconvert_exporter": "python",
   "pygments_lexer": "ipython3",
   "version": "3.5.4"
  }
 },
 "nbformat": 4,
 "nbformat_minor": 2
}
