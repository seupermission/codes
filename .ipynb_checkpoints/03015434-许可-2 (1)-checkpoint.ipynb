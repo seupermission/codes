{
 "cells": [
  {
   "cell_type": "markdown",
   "metadata": {
    "tags": [
     "Title"
    ]
   },
   "source": [
    "# **Software homework 2**\n",
    "# 03015434 许可\n",
    "## 1.**题目**\n",
    "\n",
    "### Example 8.6 : Considering a Reheat–Regenerative Cycle with Two Feedwater Heaters, a closed feedwater heater and an open feedwater heater.\n",
    "* Steam enters the first turbine at 8.0 MPa, 480°C and expands to 0.7 MPa.\n",
    "* The steam is reheated to 440°C before entering the second turbine, where it expands to the condenser pressure of 0.008 MPa.\n",
    "* Steam is extracted from the first turbine at 2 MPa and fed to the closed feedwater heater.\n",
    "* Feedwater leaves the closed heater at 205°C and 8.0 MPa, and condensate exits as saturated liquid at 2 MPa.\n",
    "* The condensate is trapped into the open feedwater heater.\n",
    "* Steam extracted from the second turbine at 0.3 MPa is also fed into the open feedwater heater, which operates at 0.3 MPa. The stream exiting the open feedwater heater is saturated liquid at 0.3 MPa.\n",
    "* The net power output of the cycle is 100 MW.\n",
    "* There is no stray heat transfer from any component to its surroundings.\n",
    "* If the working fluid experiences no irreversibilities as it passes through the turbines, pumps, steam generator, reheater, and condenser,\n",
    "### SOLUTION\n",
    "#### Known: A reheat–regenerative vapor power cycle operates with steam as the working fluid. Operating pressures and temperatures are specified, and the net power output is given.\n",
    "#### Find: Determine the thermal efficiency and the mass flow rate entering the first turbine, in kg/h.\n",
    "\n",
    "带有两个给水加热器的回热循环\n",
    "\n",
    "第8章蒸汽动力系统：(第460-463页)\n",
    "\n",
    "* 8.6：有两个给水加热器：一个闭式给水加热器和一个开放式给水加热器，构成再热-回热循环。\n",
    "\n",
    "* 蒸汽以8.0 MPa、480°C进入第一台涡轮机，膨胀至0.7 MPa。蒸汽在进入第二个涡轮之前再加热到440℃，然后冷凝器压力膨胀到0.008 MPa。蒸汽以2 MPa从第一台涡轮中抽出来，并送至闭式给水加热器。在给水达到205℃和8.0 MPa的条件时关闭加热器，2 MPa时凝结水以饱和液体的形式存   在。凝结水停留在开式给水加热器中。从0.3 MPa的第二台涡轮中抽出的蒸汽也被送入开式给水加热器，该加热器的工作温度为0.3 MPa。开式给水加热器出流为饱和液体，压力为0.3 MPa。该循环净功率输出为100 MW。从任何部件到其周围都没有多余散热。如果工作流体通过涡轮机、泵、蒸汽发生器、再热器和冷凝器时均为可逆的。\n",
    "* 求再热再生蒸汽动力循环以蒸汽作为工作流体。指定了工作压力和温度，并给出了净功率输出。\n",
    "\n",
    "* 求：a)循环热效率\n",
    "\n",
    "      b)和质量流量进入第一个涡轮(千克/小时)\n",
    "\n",
    "<img src=\"process.jpg\">\n",
    "\n",
    "\n",
    "## 2.Procedure Description\n",
    "### 2.1 Why do I use tuples :they are immutable, but the list is variable. The order of the tuple is immutable and cannot be removed. Therefore, in this unchangeable order of thermal cycles, tuples are more appropriate. And the list cannot be treated as a dictionary key.tuples can\n",
    "### 2.2 Why do I want to use the dictionary :key-value form, use key to access the data, fast search speed, will not become slower with the increase in elements, Time complexity: default disorder (collections.OrderDictdict can be nested, unordered data can be adjusted to ordered data, features can be accessed quickly, and lookups can be greatly reduced\n",
    "## 3.Asumptions\n",
    "1. Each component in the cycle is analyzed as a control volume at steady state. The control volumes are shown on the\n",
    "   accompanying sketch by dashed lines.\n",
    "2. There is no stray heat transfer from any component to its surroundings.\n",
    "3. The working fluid undergoes internally reversible processes as it passes through the turbines, pumps, steam generator,\n",
    "   reheater, and condenser.\n",
    "4. The expansion through the trap is a throttling process.\n",
    "5. Kinetic and potential energy effects are negligible.\n",
    "6. Condensate exits the closed heater as a saturated liquid at 2 MPa. Feedwater exits the open heater as a saturated liquid at\n",
    "   0.3 MPa. Condensate exits the condenser as a saturated liquid.\n"
   ]
  },
  {
   "cell_type": "markdown",
   "metadata": {
    "tags": [
     "Analysis"
    ]
   },
   "source": [
    "# Analysis\n",
    "\n",
    "<img src=\"analysis.png\">"
   ]
  },
  {
   "cell_type": "markdown",
   "metadata": {
    "tags": [
     "Optimal",
     "Approach"
    ]
   },
   "source": [
    "# **Optimal Approach**\n",
    "* In the process of obtaining the parameters of each state point in the loop (CalState function), the dictionary is used to represent the parameters of each state point in the corresponding dictionary, and the dictionary of each state point is stored in the list, Finally, return the entire list.\n",
    "* In the process of calculating the working state parameters and the cyclic thermal efficiency of the equipment, the dictionary is used to express the calculated results in the Results dictionary, and the result is returned to the dictionary at last."
   ]
  },
  {
   "cell_type": "code",
   "execution_count": 1,
   "metadata": {},
   "outputs": [],
   "source": [
    "from seuif97 import *\n",
    "\n",
    "def Cal():\n",
    "\n",
    "     spot=[]\n",
    "     numNodes=14\n",
    "     for i in range(numNodes):\n",
    "         b={'p':None,'t':None,'h':None,'s':None,'v':None,'x':None}\n",
    "         spot.append(b)\n",
    "     #Given\n",
    "     spot[1]['p']=8.0\n",
    "     spot[2]['p']=2.0\n",
    "     spot[3]['p']=0.7\n",
    "     spot[4]['p']=0.7\n",
    "     spot[5]['p']=0.3\n",
    "     spot[6]['p']=0.008\n",
    "     spot[7]['p']=0.008\n",
    "     spot[8]['p']=0.3\n",
    "     spot[9]['p']=0.3\n",
    "     spot[10]['p']=8.0\n",
    "     spot[11]['p']=8.0\n",
    "     spot[12]['p']=2.0\n",
    "     spot[13]['p']=0.3\n",
    "     spot[1]['t']=480;spot[4]['t']=440;spot[11]['t']=205     \n",
    "\n",
    "     #**step**\n",
    "     #from the picture we knows that entropy s3=s2=s1,Also s6=s5=s4\n",
    "    \n",
    "     #Node1\n",
    "     spot[1]['h']=pt2h(spot[1]['p'],spot[1]['t'])          \n",
    "     spot[1]['s']=pt2s(spot[1]['p'],spot[1]['t'])    \n",
    "     #Node2\n",
    "     spot[2]['h']=ps2h(spot[2]['p'],spot[1]['s'])\n",
    "     spot[2]['s']=spot[1]['s']\n",
    "     #Node3\n",
    "     spot[3]['h']=ps2h(spot[3]['p'],spot[1]['s'])\n",
    "     spot[3]['s']=spot[1]['s']\n",
    "        \n",
    "     #Node4\n",
    "     spot[4]['h']=pt2h(spot[4]['p'],spot[4]['t'])          \n",
    "     spot[4]['s']=pt2s(spot[4]['p'],spot[4]['t']) \n",
    "     #Node5\n",
    "     spot[5]['h']=ps2h(spot[5]['p'],spot[4]['s'])\n",
    "     spot[5]['s']=spot[4]['s']\n",
    "     #Node6\n",
    "     spot[6]['h']=ps2h(spot[6]['p'],spot[4]['s'])\n",
    "     spot[6]['s']=spot[4]['s']\n",
    "    \n",
    "     #state 7 is the satura#hfg is the saturated entropy at t=4205ted liquid at pressure p7\n",
    "     #state 9 is the saturated liquid at pressure p9\n",
    "     #state 12 is the saturated liquid at pressure p12\n",
    "    \n",
    "     #Node 7\n",
    "     spot[7]['h']=px2h(spot[7]['p'],0)\n",
    "     spot[7]['s']=px2s(spot[7]['p'],0)     \n",
    "     #Node8 s8=s7\n",
    "     spot[8]['h']=ps2h(spot[8]['p'],spot[7]['s'])\n",
    "     spot[8]['s']=spot[7]['s']\n",
    "    \n",
    "     #Node 9\n",
    "     spot[9]['h']=px2h(spot[9]['p'],0)\n",
    "     spot[9]['s']=px2s(spot[9]['p'],0)        \n",
    "     #Node10 s10=s9\n",
    "     spot[10]['h']=ps2h(spot[10]['p'],spot[9]['s'])\n",
    "     spot[10]['s']=spot[9]['s']\n",
    "    \n",
    "     #Node11\n",
    "     spot[11]['h']=pt2h(spot[11]['p'],spot[11]['t'])\n",
    "     spot[11]['s']=pt2s(spot[11]['p'],spot[11]['t'])\n",
    "     #Node12\n",
    "     spot[12]['h']=px2h(spot[12]['p'],0)\n",
    "     spot[12]['s']=px2s(spot[12]['p'],0)\n",
    "     #Node13   undergoes a throttling process\n",
    "     spot[13]['h']=spot[12]['h']\n",
    "     spot[13]['s']=ph2s(spot[13]['p'],spot[13]['h'])\n",
    "     \n",
    "     j=1\n",
    "     Num=14\n",
    "     while(j<Num):\n",
    "             \n",
    "        \n",
    "     return spot\n"
   ]
  },
  {
   "cell_type": "code",
   "execution_count": 2,
   "metadata": {},
   "outputs": [
    {
     "ename": "NameError",
     "evalue": "name 'spot' is not defined",
     "output_type": "error",
     "traceback": [
      "\u001b[1;31m---------------------------------------------------------------------------\u001b[0m",
      "\u001b[1;31mNameError\u001b[0m                                 Traceback (most recent call last)",
      "\u001b[1;32m<ipython-input-2-46d11776796c>\u001b[0m in \u001b[0;36m<module>\u001b[1;34m()\u001b[0m\n\u001b[0;32m      2\u001b[0m \u001b[0mNum\u001b[0m\u001b[1;33m=\u001b[0m\u001b[1;36m13\u001b[0m\u001b[1;33m\u001b[0m\u001b[0m\n\u001b[0;32m      3\u001b[0m \u001b[1;32mwhile\u001b[0m \u001b[1;33m(\u001b[0m\u001b[0mi\u001b[0m\u001b[1;33m<\u001b[0m\u001b[0mNum\u001b[0m\u001b[1;33m)\u001b[0m\u001b[1;33m:\u001b[0m\u001b[1;33m\u001b[0m\u001b[0m\n\u001b[1;32m----> 4\u001b[1;33m     \u001b[0mspot\u001b[0m\u001b[1;33m[\u001b[0m\u001b[0mi\u001b[0m\u001b[1;33m]\u001b[0m\u001b[1;33m[\u001b[0m\u001b[1;34m't'\u001b[0m\u001b[1;33m]\u001b[0m\u001b[1;33m=\u001b[0m\u001b[0mhs2t\u001b[0m\u001b[1;33m(\u001b[0m\u001b[0mspot\u001b[0m\u001b[1;33m[\u001b[0m\u001b[0mi\u001b[0m\u001b[1;33m]\u001b[0m\u001b[1;33m[\u001b[0m\u001b[1;34m'h'\u001b[0m\u001b[1;33m]\u001b[0m\u001b[1;33m,\u001b[0m\u001b[0mspot\u001b[0m\u001b[1;33m[\u001b[0m\u001b[0mi\u001b[0m\u001b[1;33m]\u001b[0m\u001b[1;33m[\u001b[0m\u001b[1;34m's'\u001b[0m\u001b[1;33m]\u001b[0m\u001b[1;33m)\u001b[0m\u001b[1;33m\u001b[0m\u001b[0m\n\u001b[0m\u001b[0;32m      5\u001b[0m     \u001b[0mspot\u001b[0m\u001b[1;33m[\u001b[0m\u001b[0mi\u001b[0m\u001b[1;33m]\u001b[0m\u001b[1;33m[\u001b[0m\u001b[1;34m'x'\u001b[0m\u001b[1;33m]\u001b[0m\u001b[1;33m=\u001b[0m\u001b[0mhs2x\u001b[0m\u001b[1;33m(\u001b[0m\u001b[0mspot\u001b[0m\u001b[1;33m[\u001b[0m\u001b[0mi\u001b[0m\u001b[1;33m]\u001b[0m\u001b[1;33m[\u001b[0m\u001b[1;34m'h'\u001b[0m\u001b[1;33m]\u001b[0m\u001b[1;33m,\u001b[0m\u001b[0mspot\u001b[0m\u001b[1;33m[\u001b[0m\u001b[0mi\u001b[0m\u001b[1;33m]\u001b[0m\u001b[1;33m[\u001b[0m\u001b[1;34m's'\u001b[0m\u001b[1;33m]\u001b[0m\u001b[1;33m)\u001b[0m\u001b[1;33m\u001b[0m\u001b[0m\n\u001b[0;32m      6\u001b[0m     \u001b[0mspot\u001b[0m\u001b[1;33m[\u001b[0m\u001b[0mi\u001b[0m\u001b[1;33m]\u001b[0m\u001b[1;33m[\u001b[0m\u001b[1;34m'v'\u001b[0m\u001b[1;33m]\u001b[0m\u001b[1;33m=\u001b[0m\u001b[0mhs2v\u001b[0m\u001b[1;33m(\u001b[0m\u001b[0mspot\u001b[0m\u001b[1;33m[\u001b[0m\u001b[0mi\u001b[0m\u001b[1;33m]\u001b[0m\u001b[1;33m[\u001b[0m\u001b[1;34m'h'\u001b[0m\u001b[1;33m]\u001b[0m\u001b[1;33m,\u001b[0m\u001b[0mspot\u001b[0m\u001b[1;33m[\u001b[0m\u001b[0mi\u001b[0m\u001b[1;33m]\u001b[0m\u001b[1;33m[\u001b[0m\u001b[1;34m's'\u001b[0m\u001b[1;33m]\u001b[0m\u001b[1;33m)\u001b[0m\u001b[1;33m\u001b[0m\u001b[0m\n",
      "\u001b[1;31mNameError\u001b[0m: name 'spot' is not defined"
     ]
    }
   ],
   "source": [
    "i=0\n",
    "Num=13\n",
    "while (i<Num):\n",
    "    spot[i]['t']=hs2t(spot[i]['h'],spot[i]['s'])\n",
    "    spot[i]['x']=hs2x(spot[i]['h'],spot[i]['s'])\n",
    "    spot[i]['v']=hs2v(spot[i]['h'],spot[i]['s'])\n",
    "    print ('%4d'%(i+1),'%*.*f'%(10,3,States[i]['p']),'%*.*f'%(10,3,States[i]['s']))\n",
    "    i=i+1      "
   ]
  },
  {
   "cell_type": "markdown",
   "metadata": {},
   "source": [
    "$$y'=\\frac{h_{11}-h_{10}}{h_{2}-h_{12}}$$\n",
    "\n",
    "$$y''=\\frac{(1-y')*h_8+y'*h_{13}-h_9}{h_8-h_5}$$"
   ]
  },
  {
   "cell_type": "code",
   "execution_count": null,
   "metadata": {},
   "outputs": [],
   "source": [
    "\n",
    "def  percent():\n",
    "     y=[]\n",
    "     numNodes = 3\n",
    "\n",
    "     for node in range(numNodes):\n",
    "         y.append(None)\n",
    "    \n",
    "     y[1] = (spot[11]['h'] - spot[10]['h']) / (spot[2]['h'] - spot[12]['h'])\n",
    "     y[2] = ((1 - y[1]) * spot[8]['h'] + y[1]*spot[13]['h']- spot[9]['h']) / (spot[8]['h'] - spot[5]['h'])\n",
    "     return(y)\n"
   ]
  },
  {
   "cell_type": "markdown",
   "metadata": {},
   "source": [
    "* Then，we need to calculate the workloads of the machines and the total heat absorption of the whole Rankine cycle , of course, calculate at the steam volume per unit entering the first stage of the turbine.\n",
    "Turbine1：$\\frac{W_{t1}}{m_1}=h_1-h_2+(1-y')(h_2-h_3)$  \n",
    "Turbin2：$\\frac{W_{t2}}{m_1}=(1-y')(h_4-h_5)+(1-y'-y'')(h_5-h_6)$  \n",
    "Pump1：$\\frac{W_{p1}}{m_1}=(1-y'-y'')(h_8-h_7)$  \n",
    "Pump2：$\\frac{W_{p2}}{m_1}=h_{10}-h_9$  \n",
    "Total heat absorption in cycle：$\\frac{Q_{in}}{m_1}=h_1-h_{11}+(1-y')(h_4-h_3)$  \n",
    "Heat effiency of the rankine cycle:$$\\eta=\\frac{\\frac{W_{t1}}{m_1}+\\frac{W_{t2}}{m_1}-\\frac{W_{p1}}{m_1}-\\frac{W_{p2}}{m_1}}{\\frac{Q_{in}}{m_1}}$$\n",
    "* Steam flow into first stage steam turbine:$$m_1=\\frac{W_{cycle}}{\\frac{W_{t1}}{m_1}+\\frac{W_{t2}}{m_1}-\\frac{W_{p1}}{m_1}-\\frac{W_{p2}}{m_1}}$$\n",
    "* The results of these data processing are all saved and returned in the dictionary. "
   ]
  },
  {
   "cell_type": "code",
   "execution_count": null,
   "metadata": {
    "tags": [
     "Reults"
    ]
   },
   "outputs": [],
   "source": [
    "#Answer\n",
    "from seuif97 import *\n",
    "\n",
    "def rankine(spot,y,Wcycledot):\n",
    "    results={}\n",
    "    #(a)\n",
    "    results['wtdot1']=spot[1]['h']-y[1]*spot[2]['h']-(1-y[1])*spot[3]['h']\n",
    "    results['wtdot2']=(1-y[1])*spot[4]['h']-y[2]*spot[5]['h']-(1-y[1]-y[2])*spot[6]['h']\n",
    "    results['wtdot']=results['wtdot1']+results['wtdot2']\n",
    "    results['wpdot']=(1-y[1]-y[2])*(spot[8]['h']-spot[7]['h'])+spot[10]['h']-spot[9]['h']\n",
    "    results['qindot']=(spot[1]['h']-spot[11]['h'])+(1-y[1])*(spot[4]['h']-spot[3]['h'])\n",
    "    results['eta'] = ( results['wtdot1']+results['wtdot2']-results['wpdot'])/results['qindot']\n",
    "\n",
    "    #(b)\n",
    "    results['mcwdot'] = (Wcycledot*3600*10**3)/(results['wtdot1']+results['wtdot2']-results['wpdot'])\n",
    "    return results\n",
    "\n",
    "\n",
    "#Results\n",
    "Wcycledot = 100.0\n",
    "spot=Cal() \n",
    "y=percent() \n",
    "cycleResults=rankine(spot,y,Wcycledot)\n",
    "Plot(spot)\n",
    "print('Softwarework 2: Reheat-Regenerative Cycle with Two Feedwater Heaters')\n",
    "print('(a) The thermal efficiency for the cycle is %.3f '%(cycleResults['eta']*100),'%')\n",
    "print('(b) The mass flow rate of the condenser cooling water is %.3f '%(cycleResults['mcwdot']),'kg/h')nt\n"
   ]
  },
  {
   "cell_type": "markdown",
   "metadata": {},
   "source": [
    "### Summary (mistakes I made)\n",
    "\n",
    "* A program block is defined not by \"{\" and \"}\", but by the indentation of the program to represent the level of the program's    block and code.\n",
    "* The program does not have a **main** function like the main program, a file of all content (code) from line to line from left to right. In the file there are functions, function definition section wait until the call.\n",
    "* There is no description of the return value and return value type in the function definition, only the function name and parameter list (the parameter also has no type, The same function can accept different types of parameters in the same program. If there is no return value, the default return **NONE**. if there is a displayed **return** statement, return the value of the **return**. (in the same function, multiple **return** can return different types or not.)\n",
    "* **Print** function: print content to the console, can be numeric, string, sequence and other types.Default newlines format string,such as **%d（%o、%x）、%f、%s** and so on\n",
    "* The function defines a description with no **return** value, but you can return a value using the **return** statement, and if there are multiple **return** statements in the function, the return value type can be different, if there is no **return** statement, The default is to return a parameter list of **None**. functions with only the name of the parameter, but no type of parameter, which is determined dynamically at run time, in the same program, You can call this function by passing different types of arguments to the same function. Note that the function definition is followed by \":\". Function calls are in the form of **functionname (arg1, arg2,.....)**\n",
    "* List characteristics: the list is mutable, can be deleted, sorted, appended (the list does not lose its identity, here you need to define each node with a list\n",
    "* Tuples: tuples are immutable. Tuples are very similar to lists, except tuples are as immutable as strings, that is, you can't modify tuples. Therefore, this question does not apply tuples"
   ]
  }
 ],
 "metadata": {
  "celltoolbar": "Tags",
  "kernelspec": {
   "display_name": "Python 3",
   "language": "python",
   "name": "python3"
  },
  "language_info": {
   "codemirror_mode": {
    "name": "ipython",
    "version": 3
   },
   "file_extension": ".py",
   "mimetype": "text/x-python",
   "name": "python",
   "nbconvert_exporter": "python",
   "pygments_lexer": "ipython3",
   "version": "3.5.4"
  }
 },
 "nbformat": 4,
 "nbformat_minor": 2
}
