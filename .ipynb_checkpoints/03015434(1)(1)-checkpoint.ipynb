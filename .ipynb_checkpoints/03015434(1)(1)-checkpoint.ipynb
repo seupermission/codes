{
 "cells": [
  {
   "cell_type": "code",
   "execution_count": 1,
   "metadata": {},
   "outputs": [],
   "source": [
    "# Software homework 4\n",
    "## 03015434 \n",
    "\n",
    "### **Ansombe's quartet**"
   ]
  },
  {
   "cell_type": "markdown",
   "metadata": {},
   "source": [
    "**Data Analysis**"
   ]
  },
  {
   "cell_type": "code",
   "execution_count": 4,
   "metadata": {},
   "outputs": [],
   "source": [
    "import numpy as np\n",
    "import matplotlib.pyplot as plt\n",
    "from  statistics import mean,stdev,variance\n",
    "\n",
    "class Group:\n",
    "\n",
    "    def __init__(self,X,Y,j):\n",
    "        self.X = np.array(X)\n",
    "        self.Y = np.array(Y)\n",
    "        self.X1 = X\n",
    "        self.Y1 = Y\n",
    "        self.j = j \n",
    "        self.person_r = np.corrcoef(self.X1,self.Y1)[0, 1]  #Pearson correlation \n",
    "        \n",
    "\n",
    "    def indicators(self):\n",
    "        x={}\n",
    "        y={}\n",
    "       \n",
    "        x['x_avg'] = mean(self.X)\n",
    "        x['x_std'] = stdev(self.X)\n",
    "        x['x_pstd'] = stdev(self.X)*10/11\n",
    "        x['x_var'] = variance(self.X)\n",
    "        x['x_pvar'] = variance(self.X)*10/11\n",
    "        y['y_avg'] = mean(self.Y)\n",
    "        y['y_std'] = stdev(self.Y)\n",
    "        y['y_pstd'] = stdev(self.Y)*10/11\n",
    "        y['y_var'] = variance(self.Y)\n",
    "        y['y_pvar'] = variance(self.Y)*10/11\n",
    "        return x,y,self.person_r\n",
    "\n",
    "    \n"
   ]
  },
  {
   "cell_type": "markdown",
   "metadata": {},
   "source": [
    "**LinearRegression**"
   ]
  },
  {
   "cell_type": "code",
   "execution_count": 5,
   "metadata": {},
   "outputs": [],
   "source": [
    "    def rSquared(self,measured, predicted):\n",
    "        # RSS: residual sum of squares\n",
    "        estimateError = ((predicted - measured)**2).sum()\n",
    "        meanOfMeasured = measured.sum()/float(len(measured))\n",
    "        \n",
    "        # TSS: total sum of squares\n",
    "        variability = ((measured - meanOfMeasured)**2).sum()\n",
    "        return 1 - estimateError/variability\n",
    "    \n",
    "\n",
    "    \n",
    "    def LinearRegression(self):\n",
    "        measuredX = np.array(self.X)  \n",
    "        measuredX.sort()\n",
    "        measuredY = self.Y\n",
    "\n",
    "        i=0\n",
    "        a=[]\n",
    "        R=[]\n",
    "        predictedY = []\n",
    "        while (i<1):\n",
    "            a.append([0,0])\n",
    "            R.append(None)\n",
    "            predictedY.append(None)\n",
    "            i=i+1\n",
    "        \n",
    "        i=0\n",
    "        while (i<1):\n",
    "            a[i][0-i:1] = np.polyfit(self.X, self.Y, i+1)\n",
    "            predictedY[i] =(a[i][0]*measuredX + a[i][1])\n",
    "            predictedY1 =( a[i][0]*self.X + a[i][1])\n",
    "            R[i] = self.rSquared(measuredY, predictedY1)\n",
    "            if (R[i]<0)or(R[i]>1):\n",
    "                predictedY[i] =self.Y  \n",
    "            i+=1\n",
    "        return a,measuredX,predictedY,R\n"
   ]
  },
  {
   "cell_type": "markdown",
   "metadata": {},
   "source": [
    "**export picture**"
   ]
  },
  {
   "cell_type": "code",
   "execution_count": 6,
   "metadata": {},
   "outputs": [
    {
     "ename": "IndentationError",
     "evalue": "expected an indented block (<ipython-input-6-d341321b2294>, line 26)",
     "output_type": "error",
     "traceback": [
      "\u001b[1;36m  File \u001b[1;32m\"<ipython-input-6-d341321b2294>\"\u001b[1;36m, line \u001b[1;32m26\u001b[0m\n\u001b[1;33m    datafile = xlrd.open_workbook(filename)\u001b[0m\n\u001b[1;37m           ^\u001b[0m\n\u001b[1;31mIndentationError\u001b[0m\u001b[1;31m:\u001b[0m expected an indented block\n"
     ]
    }
   ],
   "source": [
    "    def export(self,ax,j=5): \n",
    "        a,measuredX,predictedY,R = self.LinearRegression()\n",
    "        ax.plot(self.X, self.Y, 'bo',label='Anscombe'+'%.0f' % (self.j+1)+'.jpg')\n",
    "        for i in range(1):\n",
    "            if j<5:\n",
    "                i=j\n",
    "            if i==0:\n",
    "                if (R[i]<0)or(R[i]>1):\n",
    "                    ax.plot(measuredX, predictedY[i], 'g:', label = 'linear fit x='+'%.2f' %(measuredX[0]))\n",
    "                else :\n",
    "                    ax.plot(measuredX, predictedY[i], 'g:', label = 'linear fit y='+'%.2f' % (a[i][1])+'x+'+'%.1f' % (a[i][0]))\n",
    "            if j<5:\n",
    "                break\n",
    "                \n",
    "        ax.set_title('Anscombe'+'%.0f' % (self.j+1)+'.txt')\n",
    "        ax.legend(loc='best')\n",
    "        ax.set_xlabel('X'+'%.0f' % (self.j+1))\n",
    "        ax.set_ylabel('Y'+'%.0f' % (self.j+1))\n",
    "        return ax\n",
    "import xlrd\n",
    "\n",
    "\n",
    "\n",
    "def read_datafile(filename):\n",
    "    \n",
    "    datafile = xlrd.open_workbook(filename)\n",
    "    sheet = datafile.sheets()[0]\n",
    "    col = sheet.ncols \n",
    "    row = sheet.nrows\n",
    "    \n",
    "    group = []\n",
    "    x=[]\n",
    "    y=[]\n",
    "    \n",
    "    i=0\n",
    "    while (i < col):\n",
    "        x.append(None)\n",
    "        y.append(None)\n",
    "        group.append(None)\n",
    "        i=i+1\n",
    "    \n",
    "    i=0\n",
    "    j=0\n",
    "    while (i < col):\n",
    "        x[i]=sheet.col_values(i)\n",
    "        del x[i][0]\n",
    "        y[i]=sheet.col_values(i+1)\n",
    "        del y[i][0]\n",
    "        group[j] = Group(x[i],y[i],j)\n",
    "        j=j+1\n",
    "        i=i+2\n",
    "        \n",
    "    return row,col,group\n",
    "\n",
    "\n",
    "    \n",
    "row,col,group = read_datafile('./data.csv')\n",
    "row=row-1\n",
    "a=int(col/2)\n",
    "x=[]\n",
    "y=[]\n",
    "r=[]\n",
    "fig = plt.figure(figsize=(12,10)) \n",
    "for i in range(a):\n",
    "    ax= fig.add_subplot(2,2,i+1)\n",
    "    group[i].export(ax)\n",
    "    x.append(None)\n",
    "    y.append(None)\n",
    "    r.append(None)\n",
    "    x[i],y[i],r[i]=group[i].indicators()\n",
    "    \n",
    "plt.show()"
   ]
  },
  {
   "cell_type": "code",
   "execution_count": null,
   "metadata": {},
   "outputs": [],
   "source": [
    "**Output Table**"
   ]
  },
  {
   "cell_type": "code",
   "execution_count": 9,
   "metadata": {},
   "outputs": [
    {
     "ename": "NameError",
     "evalue": "name 'a' is not defined",
     "output_type": "error",
     "traceback": [
      "\u001b[1;31m---------------------------------------------------------------------------\u001b[0m",
      "\u001b[1;31mNameError\u001b[0m                                 Traceback (most recent call last)",
      "\u001b[1;32m<ipython-input-9-89eb4e2f141d>\u001b[0m in \u001b[0;36m<module>\u001b[1;34m()\u001b[0m\n\u001b[0;32m      3\u001b[0m \u001b[0mtable\u001b[0m\u001b[1;33m.\u001b[0m\u001b[0malign\u001b[0m\u001b[1;33m[\u001b[0m\u001b[1;34m'data set'\u001b[0m\u001b[1;33m]\u001b[0m\u001b[1;33m=\u001b[0m \u001b[1;34m\"l\"\u001b[0m \u001b[1;31m# left align\u001b[0m\u001b[1;33m\u001b[0m\u001b[0m\n\u001b[0;32m      4\u001b[0m \u001b[0mtable\u001b[0m\u001b[1;33m.\u001b[0m\u001b[0mpadding_width\u001b[0m \u001b[1;33m=\u001b[0m \u001b[1;36m1\u001b[0m \u001b[1;31m# One space between column edges and contents (default)\u001b[0m\u001b[1;33m\u001b[0m\u001b[0m\n\u001b[1;32m----> 5\u001b[1;33m \u001b[1;32mfor\u001b[0m \u001b[0mi\u001b[0m \u001b[1;32min\u001b[0m \u001b[0mrange\u001b[0m\u001b[1;33m(\u001b[0m\u001b[0ma\u001b[0m\u001b[1;33m)\u001b[0m\u001b[1;33m:\u001b[0m\u001b[1;33m\u001b[0m\u001b[0m\n\u001b[0m\u001b[0;32m      6\u001b[0m     table.add_row([str(i),\"%.3f\" %x[i]['x_avg'],\"%.3f\" %x[i]['x_std'],\"%.3f\" %x[i]['x_pstd'],\"%.3f\" %x[i]['x_var'],\"%.3f\" %x[i]['x_pvar'],\n\u001b[0;32m      7\u001b[0m                    \"%.3f\" %y[i]['y_avg'],\"%.3f\" %y[i]['y_std'],\"%.3f\" %y[i]['y_pstd'],\"%.3f\" %y[i]['y_var'],\"%.3f\" %y[i]['y_pvar'],\"%.3f\" %r[i]])     \n",
      "\u001b[1;31mNameError\u001b[0m: name 'a' is not defined"
     ]
    }
   ],
   "source": [
    "from prettytable import PrettyTable\n",
    "table=PrettyTable([\"data set\",\"x-avg\",\"x-std\", \"x-pstd\", \"x-var\",\"x-pvar\",\"y-avg\",\"y-std\", \"y-pstd\", \"y-var\",\"y-pvar\",\"pearson_r\"])  \n",
    "table.align['data set']= \"l\"  # left align  \n",
    "table.padding_width = 1 \n",
    "for i in range(a):\n",
    "    table.add_row([str(i+1),\"%.3f\" %x[i]['x_avg'],\"%.3f\" %x[i]['x_std'],\"%.3f\" %x[i]['x_pstd'],\"%.3f\" %x[i]['x_var'],\"%.3f\" %x[i]['x_pvar'],\n",
    "                   \"%.3f\" %y[i]['y_avg'],\"%.3f\" %y[i]['y_std'],\"%.3f\" %y[i]['y_pstd'],\"%.3f\" %y[i]['y_var'],\"%.3f\" %y[i]['y_pvar'],\"%.3f\" %r[i]])     \n",
    "\n",
    "print(table)"
   ]
  },
  {
   "cell_type": "code",
   "execution_count": null,
   "metadata": {},
   "outputs": [],
   "source": [
    "* All four graphs have identical (to two decimal places) statistical coefficients. However as these graphs demonstrate and here is the big takeaway, summary statistics don’t tell us everything about a Dataset."
   ]
  },
  {
   "cell_type": "code",
   "execution_count": null,
   "metadata": {},
   "outputs": [],
   "source": [
    "* We see that the summary statistics are, if not the same (a mean in x of 9, in y of 7.5) very similar. We can also take a look at the relationship between x and y in each data set by computing the regression line and visualising it:"
   ]
  },
  {
   "cell_type": "code",
   "execution_count": null,
   "metadata": {},
   "outputs": [],
   "source": [
    "* Now let’s look at the Dataset’s:\n",
    "\n",
    "* Dataset I:  consists of a set of points that appear to follow a somewhat linear relationship which includes some variance.\n",
    "* Dataset II:  seems to fit a ( Quadratic ?? ) curve but doesn’t follow a linear relationship.\n",
    "* Dataset III:  looks like a good linear relationship , except for one large outlier.\n",
    "* Dataset IV:   looks like x remains constant, except for one outlier.\n"
   ]
  },
  {
   "cell_type": "code",
   "execution_count": null,
   "metadata": {},
   "outputs": [],
   "source": [
    "##### They also have the same regression line:y=0.5x+3"
   ]
  },
  {
   "cell_type": "code",
   "execution_count": null,
   "metadata": {},
   "outputs": [],
   "source": [
    " * Analysis:Their statistics are almost the same,But the pictures they draw are completely different,for one discrete value can influence the whole data,don’t assume that the summary statistics reflect your graph correctly.Graph your Dataset to be sure. !!"
   ]
  },
  {
   "cell_type": "code",
   "execution_count": 4,
   "metadata": {},
   "outputs": [
    {
     "name": "stdout",
     "output_type": "stream",
     "text": [
      "X1= [10.0, 8.0, 13.0, 9.0, 11.0, 14.0, 6.0, 4.0, 12.0, 7.0, 5.0]\n",
      "Y1= [9.14, 8.14, 8.74, 8.77, 9.26, 8.1, 6.13, 3.1, 9.13, 7.26, 4.74]\n",
      "a= -0.126713286704128  b= 2.7808391606720027  c= -5.9957342650629695\n",
      "cost:3\n",
      "The theoreticalcurve is:\n",
      "y=-0.13x*x+2.78x+-5.9957342650629695\n"
     ]
    },
    {
     "data": {
      "image/png": "[encoded data removed]",
      "text/plain": [
       "<matplotlib.figure.Figure at 0x19d44514c50>"
      ]
     },
     "metadata": {},
     "output_type": "display_data"
    },
    {
     "data": {
      "text/plain": [
       "<matplotlib.figure.Figure at 0x19d457a5c50>"
      ]
     },
     "metadata": {},
     "output_type": "display_data"
    }
   ],
   "source": [
    "#ANALYSIS X1,Y1\n",
    "import numpy as np\n",
    "import matplotlib.pyplot as plt\n",
    "from scipy.optimize import leastsq\n",
    "\n",
    "#4-2\n",
    "# 待拟合的数据\n",
    "def getData(fileName):\n",
    "    dataFile = open(fileName, 'r')\n",
    "    X1 = []\n",
    "    Y1 = []\n",
    "    discardHeader = dataFile.readline()\n",
    "    for line in dataFile:\n",
    "        a, b = line.split(',')\n",
    "        X1.append(float(a))\n",
    "        Y1.append(float(b))\n",
    "    dataFile.close()\n",
    "    return (X1,Y1)\n",
    "inputFile='./data2.csv'\n",
    "X1,Y1= getData(inputFile)\n",
    "print(\"X1=\",X1)\n",
    "print(\"Y1=\",Y1)\n",
    "\n",
    "X=np.array(X1)\n",
    "Y=np.array(Y1)\n",
    "# 二次函数的标准形式\n",
    "def func(params, x):\n",
    "    a, b, c = params\n",
    "    return a * x * x + b * x + c\n",
    "\n",
    "\n",
    "# 误差函数，即拟合曲线所求的值与实际值的差\n",
    "def error(params, x, y):\n",
    "    return func(params, x) - y\n",
    "\n",
    "\n",
    "# 对参数求解\n",
    "def slovePara():\n",
    "    p0 = [15, 15, 15]\n",
    "\n",
    "    Para = leastsq(error, p0, args=(X, Y))\n",
    "    return Para\n",
    "\n",
    "\n",
    "# 输出最后的结果\n",
    "def solution():\n",
    "    Para = slovePara()\n",
    "    a, b, c = Para[0]\n",
    "    print (\"a=\",a,\" b=\",b,\" c=\",c)\n",
    "    print (\"cost:\" + str(Para[1]))\n",
    "    print (\"The theoreticalcurve is:\")\n",
    "    print(\"y=\"+str(round(a,2))+\"x*x+\"+str(round(b,2))+\"x+\"+str(c))\n",
    "    plt.figure(figsize=(8,6))\n",
    "    plt.scatter(X, Y, color=\"green\", label=\"sample data\", linewidth=2)\n",
    "\n",
    "    #   画拟合直线\n",
    "    x=np.linspace(0,15,100) ##在0-15直接画100个连续点\n",
    "    y=a*x*x+b*x+c ##函数式\n",
    "    plt.plot(x,y,color=\"red\",label=\"solution line\",linewidth=2)\n",
    "    plt.title('4-2')\n",
    "    plt.xlabel('X1')\n",
    "    plt.ylabel('Y1')\n",
    "    plt.legend() #绘制图例\n",
    "    plt.show()\n",
    "    plt.savefig('./2')\n",
    "solution()"
   ]
  }
 ],
 "metadata": {
  "kernelspec": {
   "display_name": "Python 3",
   "language": "python",
   "name": "python3"
  },
  "language_info": {
   "codemirror_mode": {
    "name": "ipython",
    "version": 3
   },
   "file_extension": ".py",
   "mimetype": "text/x-python",
   "name": "python",
   "nbconvert_exporter": "python",
   "pygments_lexer": "ipython3",
   "version": "3.5.4"
  }
 },
 "nbformat": 4,
 "nbformat_minor": 2
}
